{
 "cells": [
  {
   "cell_type": "markdown",
   "id": "2d6f4fb1-78d7-47f3-bc81-b3a6554f7882",
   "metadata": {},
   "source": [
    "# ML - TME 4 : Introduction à Pytorch (II)\n",
    "\n",
    "\n",
    "Nicolas Baskiotis (nicolas.baskiotis@sorbonne-universite.fr)  -- MLIA/ISIR, Sorbonne Université\n"
   ]
  },
  {
   "cell_type": "markdown",
   "id": "6d4587d8-8688-47bb-bb25-c187140515e3",
   "metadata": {},
   "source": [
    "## Préambule\n",
    "\n",
    "Dans cette deuxième partie, nous verrons les modules - brique de base de PyTorch - l'utilisation du GPU.\n",
    "\n",
    "Il se conclut sur une partie expérimentale sur MNIST.\n"
   ]
  },
  {
   "cell_type": "code",
   "execution_count": 1,
   "id": "b7df826a-faae-4ee7-adf3-f7a2b049642b",
   "metadata": {},
   "outputs": [
    {
     "name": "stdout",
     "output_type": "stream",
     "text": [
      "La version de torch est :  2.2.0+cpu\n",
      "Le calcul GPU est disponible ?  False\n"
     ]
    }
   ],
   "source": [
    "import torch\n",
    "print(\"La version de torch est : \",torch.__version__)\n",
    "print(\"Le calcul GPU est disponible ? \", torch.cuda.is_available())\n",
    "from torch import nn\n",
    "import numpy as np\n",
    "import sklearn\n",
    "import matplotlib.pyplot as plt\n",
    "%matplotlib widget"
   ]
  },
  {
   "cell_type": "markdown",
   "id": "30410727-9c58-4a5a-9724-c6e980ae700a",
   "metadata": {},
   "source": [
    "## Module\n",
    "Dans le framework pytorch (et dans la plupart des frameworks analogues), <a href=\"https://pytorch.org/docs/stable/nn.html\">le module</a> est la brique de base qui permet de construire un réseau de neurones.Tous les modules se trouvent dans **torch.nn**. Un module permet de représenter en particulier :\n",
    "* une couche du réseau (linéaire : **nn.Linear**, convolution : **nn.convXd**, ...)\n",
    "* une fonction d'activation (tanh : **nn.Tanh**, sigmoïde : **nn.Sigmoid** , ReLu : **nn.ReLU**, ...)\n",
    "* une fonction de coût (MSE : **nn.MSELoss**, L1 :  **nn.L1Loss**, CrossEntropy binaire: **nn.BCE**, CrossEntropy : **nn.CrossEntropyLoss**, ...)\n",
    "* mais également des outils de régularisation (BatchNorm : **nn.BatchNorm1d**, Dropout : **nn.Dropout**, ...)\n",
    "* un ensemble de modules : en termes informatique, un module est un conteneur abstrait qui peut contenir d'autres conteneurs) : plusieurs modules peuvent être mis ensemble afin de former un nouveau module plus complexe. Ainsi, **nn.Sequential** permet d'enchaîner des modules, **nn.ModuleList** permet de faire une liste de module, ...\n",
    "\n",
    "Un objet module comporte une encapsulation qui permet de gérer automatiquement les paramètres à apprendre. Ainsi, lorsque plusieurs modules sont regroupés dans un même conteneur, tous les paramètres des sous-modules sont automatiquement considérés comme des paramètres du conteneur. Un module est muni :\n",
    "* d'une méthode **forward** qui permet de calculer la sortie du module à partir des entrées\n",
    "* d'une méthode **backward** qui permet d'effectuer la rétro-propagation (localement).\n",
    "* d'une méthode **parameters** qui permet d'obtenir tous les paramètres du module.\n",
    "\n",
    "Ci-dessous un exemple d'utilisation d'un module linéaire.\n"
   ]
  },
  {
   "cell_type": "code",
   "execution_count": 21,
   "id": "abceb97c-ef11-49f0-b5fb-2b5a7a1654af",
   "metadata": {},
   "outputs": [
    {
     "name": "stdout",
     "output_type": "stream",
     "text": [
      "Sortie du réseau tensor([[-0.4403],\n",
      "        [-0.5536],\n",
      "        [-0.1772],\n",
      "        [ 1.6944],\n",
      "        [ 1.3047]], grad_fn=<AddmmBackward0>)\n",
      "Sortie du réseau tensor([[-0.4403],\n",
      "        [-0.5536],\n",
      "        [-0.1772],\n",
      "        [ 1.6944],\n",
      "        [ 1.3047]], grad_fn=<AddmmBackward0>)\n",
      "Paramètres :  [Parameter containing:\n",
      "tensor([[-0.2592, -0.3023, -0.2543,  0.3041,  0.1585,  0.0021,  0.0910, -0.0777,\n",
      "         -0.3031,  0.2105]], requires_grad=True), Parameter containing:\n",
      "tensor([0.2015], requires_grad=True)]\n",
      "Paramètres et leurs noms :  [('weight', Parameter containing:\n",
      "tensor([[-0.2592, -0.3023, -0.2543,  0.3041,  0.1585,  0.0021,  0.0910, -0.0777,\n",
      "         -0.3031,  0.2105]], requires_grad=True)), ('bias', Parameter containing:\n",
      "tensor([0.2015], requires_grad=True))]\n",
      "Le coût est de 0.6152728796005249\n",
      "Paramètres mis à jour :  [('weight', Parameter containing:\n",
      "tensor([[ 0.0270, -0.1206,  0.0667,  0.0413,  0.1669,  0.0970, -0.2889,  0.2686,\n",
      "          0.1307,  0.1371]], requires_grad=True)), ('bias', Parameter containing:\n",
      "tensor([0.1528], requires_grad=True))]\n"
     ]
    }
   ],
   "source": [
    "# Tenseur de 5x10\n",
    "x = torch.randn(5,10)\n",
    "## Création d'une couche linéaire de dimension 10->1\n",
    "net = torch.nn.Linear(10, 1) \n",
    "## Passe forward du module \n",
    "print(\"Sortie du réseau\", net.forward(x))\n",
    "## Equivalent : \n",
    "print(\"Sortie du réseau\", net(x))\n",
    "\n",
    "## affiche la liste des paramètres du modèle\n",
    "print(\"Paramètres : \", list(net.parameters()))\n",
    "print(\"Paramètres et leurs noms : \", list(net.named_parameters()))\n",
    "\n",
    "## Création d'une fonction de loss aux moindres carrés\n",
    "mseloss = torch.nn.MSELoss()\n",
    "## on créé un optimiseur pour le réseau (paramètres w et b)\n",
    "optim = torch.optim.Adam(params=net.parameters(),lr=1e-3) \n",
    "## Juste pour info, ce n'est pas utile, les paramètres sont déjà initialisés.\n",
    "net.reset_parameters()\n",
    "## Calcul du coût\n",
    "l = mseloss(net(x),torch.randn(5,1))\n",
    "print(f\"Le coût est de {l.item()}\")\n",
    "\n",
    "# Passe backward \n",
    "optim.zero_grad()\n",
    "l.backward()\n",
    "optim.step() \n",
    "# Paramètres mis à jour \n",
    "print(\"Paramètres mis à jour : \",list(net.named_parameters()))"
   ]
  },
  {
   "cell_type": "markdown",
   "id": "7a2a1192-b351-43f2-80d4-7bb837bcd8bd",
   "metadata": {},
   "source": [
    "## Création d'un réseau de neurones\n",
    "\n",
    "Avec ces briques élémentaires, il est très facile de définir un réseau de neurones standard :\n",
    "* soit en utilisant le conteneur **nn.Sequential** qui permet d'enchaîner séquentiellement plusieurs modules, et qui chaîne automatiquement la sortie d'un module à l'entrée du suivant\n",
    "* soit en définissant à la main un nouveau module en le faisant hérité de la classe **nn.Module**. Dans ce cas, il est nécessaire de coder la méthode **forward** afin d'indiquer le comportement du module.\n",
    "\n",
    "Ci-dessous un exemple  pour créer un réseau à deux couches linéaires avec une fonction d'activation tanh des deux manières différentes. Vous remarquez qu'il n'y a pas besoin de définir la méthode **backward**, celle-ci est héritée du conteneur abstrait et ne fait qu'appeler séquentiellement en ordre inverse les méthodes **backward** des différents modules. "
   ]
  },
  {
   "cell_type": "code",
   "execution_count": 24,
   "id": "f2526357-8a7e-4998-a3bd-f83541c835a6",
   "metadata": {},
   "outputs": [
    {
     "name": "stdout",
     "output_type": "stream",
     "text": [
      "Sequential(\n",
      "  (0): Linear(in_features=10, out_features=5, bias=True)\n",
      "  (1): Tanh()\n",
      "  (2): Linear(in_features=5, out_features=1, bias=True)\n",
      ")\n",
      "DeuxCouches(\n",
      "  (un): Linear(in_features=10, out_features=5, bias=True)\n",
      "  (act): Tanh()\n",
      "  (deux): Linear(in_features=5, out_features=1, bias=True)\n",
      ")\n"
     ]
    }
   ],
   "source": [
    "EPS = 1e-2\n",
    "EPOCHS=50\n",
    "\n",
    "#Création d'un réseau à 1 couche cachée avec le module séquentiel\n",
    "netSeq = torch.nn.Sequential(torch.nn.Linear(10,5),torch.nn.Tanh(),torch.nn.Linear(5,1))\n",
    "    \n",
    "#Même réseau mais à la main\n",
    "class DeuxCouches(torch.nn.Module):\n",
    "  def __init__(self):\n",
    "    super().__init__()\n",
    "    self.un = torch.nn.Linear(10,5)\n",
    "    self.act = torch.nn.Tanh()\n",
    "    self.deux = torch.nn.Linear(5,1)\n",
    "  def forward(self,x):\n",
    "    return self.deux(self.act(self.un(x)))\n",
    "\n",
    "netDeuxCouches = DeuxCouches()\n",
    "\n",
    "print(netSeq)\n",
    "print(netDeuxCouches)"
   ]
  },
  {
   "cell_type": "markdown",
   "id": "cdc50bd5-b57c-4e68-9f0d-ad66ffb65142",
   "metadata": {},
   "source": [
    "\n",
    "## GPU \n",
    "Afin d'utiliser un GPU lors des calculs, il est nécessaire de transférer les données et le modèle sur le GPU par l'intermédiaire de la fonction **to(device)** des tenseurs et des modules.  Il est impossible de faire une opération lorsqu'une partie des tenseurs sont sur GPU et l'autre sur CPU. Il faut que tous les tenseurs et paramètres soient sur le même device ! On doit donc s'assurer que le modèle, les exemples et les labels sont sur GPU pour faire les opérations.\n",
    "\n",
    "Par ailleurs, on peut connaître le device sur lequel est chargé un tenseur par l'intermédiaire de ```.device``` (mais pas pour un modèle, il faut aller voir les paramètres dans ce cas).\n",
    "\n",
    "Une manière simple d'utiliser un GPU quand il existe et donc d'avoir un code agnostique est la suivante : \n"
   ]
  },
  {
   "cell_type": "code",
   "execution_count": 25,
   "id": "69f55e45-6710-41dd-b0bc-bffa504710d3",
   "metadata": {},
   "outputs": [
    {
     "name": "stdout",
     "output_type": "stream",
     "text": [
      "tensor([[-0.0486],\n",
      "        [ 0.3487],\n",
      "        [-0.1507],\n",
      "        [ 0.2880],\n",
      "        [ 0.2988]], grad_fn=<AddmmBackward0>)\n",
      "Device du mini-batch :  cpu\n",
      "tensor([[-0.0486],\n",
      "        [ 0.3487],\n",
      "        [-0.1507],\n",
      "        [ 0.2880],\n",
      "        [ 0.2988]], grad_fn=<AddmmBackward0>)\n"
     ]
    }
   ],
   "source": [
    "## Est-ce qu'un GPU est disponible ?\n",
    "use_cuda = torch.cuda.is_available()\n",
    "## Si oui, on le définit comme device\n",
    "device = torch.device(\"cuda\" if use_cuda else \"cpu\")\n",
    "\n",
    "## On charge le modèle sur GPU\n",
    "## A faire avant la déclaration de l'optimiseur, sinon les paramètres optimisés ne seront pas les mêmes! \n",
    "netSeq = netSeq.to(device)\n",
    "# Equivalent à  (opération inplace)\n",
    "netSeq.to(device)\n",
    "\n",
    "optim = torch.optim.Adam(params=netSeq.parameters(),lr=EPS)\n",
    "\n",
    "## Si les paramètres ne sont pas sur le device, erreur !\n",
    "x = torch.randn(5,10)\n",
    "try:\n",
    "    print(netSeq(x))\n",
    "except Exception as e:\n",
    "    print(e)\n",
    "\n",
    "## On transfère les paramètres sur GPU (!! opération non inplace !!)\n",
    "x = x.to(device)\n",
    "print(\"Device du mini-batch : \", x.device)\n",
    "\n",
    "## Et cette fois-ci, ça marche\n",
    "print(netSeq(x))"
   ]
  },
  {
   "cell_type": "markdown",
   "id": "f896dac2-127a-42e8-8f8a-a0ece2abc81b",
   "metadata": {},
   "source": [
    "## Boucle typique d'apprentissage"
   ]
  },
  {
   "cell_type": "markdown",
   "id": "cdf5d2c9-4021-4bcf-9592-e666a3e33999",
   "metadata": {},
   "source": [
    "Ci-dessous la boucle minimaliste typique en PyTorch pour l'apprentissage d'un modèle. N'hesitez pas à la modifier à votre convenance. Assurez vous de bien comprendre ce que fait chaque ligne de ce code.\n",
    "En particulier, on suppose que chaque modèle passé possède un attribut **name** pour pouvoir le logger dans tensorboard. Cet attribut n'existe pas par défaut, il faut l'ajouter manuellement (rappel : en python, il suffit de faire **net.name=\"mon réseau\"** pour créer un tel attribut...)"
   ]
  },
  {
   "cell_type": "code",
   "execution_count": 26,
   "id": "a29c3f92-b26c-44c8-adc1-9e56f95a11f7",
   "metadata": {},
   "outputs": [],
   "source": [
    "def accuracy(yhat,y):\n",
    "    \"\"\" Calcul la précision \n",
    "        yhat: soit vecteur de taille N dans le cas binaire avec N proba de la classe 1, soit matrice NxK, K nombre de classes, score de chaque classe pour chaque exemple\n",
    "        y : vecteur des indexes ground truth\n",
    "    \"\"\"\n",
    "    if len(yhat.size())<2:\n",
    "        return ((yhat.view(-1)>0.5).int()==y).float().mean()\n",
    "    return (yhat.argmax(1)==y.view(-1)).float().mean()"
   ]
  },
  {
   "cell_type": "code",
   "execution_count": 64,
   "id": "411c43ec-f114-4efa-9a08-fa13ba599ed6",
   "metadata": {},
   "outputs": [],
   "source": [
    "TB_PATH = \"out/tmp/logtb\"\n",
    "\n",
    "def train(model, dataloaders, loss, eps,epochs,acc=True):\n",
    "    \"\"\"\n",
    "    Boucle d'apprentissage d'un modèle\n",
    "    \n",
    "        model: modèle à entrainer\n",
    "        dataloaders: dictionnaire avec : 'train' le dataloader de train, 'val' de validation et 'test' de test\n",
    "        loss: la fonction de coût à utiliser\n",
    "        epochs: le nombre d'époque\n",
    "        acc: calcul de l'accuracy ou non\n",
    "    \"\"\"\n",
    "    ## Création du log tensorboard\n",
    "    swriter = SummaryWriter(f\"{TB_PATH}/{model.name}\")\n",
    "    ## définition de l'optimiseur\n",
    "    optim = torch.optim.Adam(model.parameters(),eps=eps)\n",
    "    ## transfert du modèle sur gpu/cpu\n",
    "    model = model.to(device)\n",
    "    ## Boucle sur les époques\n",
    "    for e in range(epochs):\n",
    "        ## Boucle sur les différentes phases\n",
    "        for phase in ['train','val','test']:\n",
    "            if phase not in dataloaders:\n",
    "                continue\n",
    "            dl = dataloaders[phase]\n",
    "            ## Loss cumulative sur les batchs\n",
    "            cuml = 0.\n",
    "            ## Accuracy cumulative sur les batchs\n",
    "            cumacc = 0.\n",
    "            ## équivalent à with torch.no_grad() if phase != 'train'\n",
    "            with torch.set_grad_enabled(phase=='train'):\n",
    "                ## parcours du dataloader\n",
    "                for bx, by in dl:\n",
    "                    ## transfert sur gpu/cpu\n",
    "                    bx,by = bx.to(device), by.to(device)\n",
    "                    ## calcul des prédictions\n",
    "                    yhat = model(bx)\n",
    "                    ## calcul du coût\n",
    "                    l = loss(yhat,by)\n",
    "                    ## calcul de la précision et de l'erreur cumulées\n",
    "                    if acc :\n",
    "                        cumacc += accuracy(yhat.detach(),by)*len(bx)\n",
    "                    cuml += l.item()*len(bx)\n",
    "                    ## Mise à jour des poids\n",
    "                    if phase=='train':\n",
    "                        optim.zero_grad()\n",
    "                        l.backward()\n",
    "                        optim.step()\n",
    "            cuml = cuml/len(dl.dataset)\n",
    "            swriter.add_scalar(f\"loss/{phase}\",cuml,e)\n",
    "            if acc:\n",
    "                cumacc = cumacc/len(dl.dataset)\n",
    "                swriter.add_scalar(f\"prec/{phase}\",cumacc,e)"
   ]
  },
  {
   "cell_type": "markdown",
   "id": "91cab56d-1a36-472e-9470-cf0bbf450ae9",
   "metadata": {},
   "source": [
    "# <font color=\"green\">  Expérimentations </font>"
   ]
  },
  {
   "cell_type": "markdown",
   "id": "9562d43f-103e-4538-a10e-bf2ae242921d",
   "metadata": {},
   "source": [
    "##  Chargement du dataset MNIST\n",
    "Le code suivant permet de charger MNIST. Changez le chemin du téléchargement pour le mettre dans un endroit où il n'y a pas de problème de quota (par exemple **/temporary** sur la ppti dans les salles avec GPUs ou **/vrac** sur les autres). \n",
    "Chaque image est transformé ensuite pour centré/normé les données et applatit en un vecteur de taille **height*width**. "
   ]
  },
  {
   "cell_type": "code",
   "execution_count": 54,
   "id": "e11b4874-20ec-493b-ab51-3fc71a62a45d",
   "metadata": {},
   "outputs": [],
   "source": [
    "import torch\n",
    "from torch.utils.data import TensorDataset, DataLoader\n",
    "from torch.utils.tensorboard import SummaryWriter\n",
    "import time\n",
    "import os\n",
    "from tensorboard import notebook\n",
    "from torchvision import datasets, transforms\n",
    "import pandas as pd\n",
    "\n",
    "## Pensez à changer le /tmp/mnist à un chemin valable\n",
    "## une fois le dataset telecharge, mettre download=False !\n",
    "## Pour le test, train = False\n",
    "data_train_raw = datasets.MNIST( '',train=True, download=False)\n",
    "data_test_raw =  datasets.MNIST( '',train=False, download=False)\n",
    "\n",
    "data_shape = data_train_raw.data.shape \n",
    "height,width = data_shape[1],data_shape[2] # taille de l'image\n",
    "\n",
    "# On transforme les images en vecteurs de réels\n",
    "data_train = data_train_raw.data.float().reshape(-1,height*width)\n",
    "y_train = data_train_raw.targets\n",
    "data_test = data_test_raw.data.float().reshape(-1,height*width)\n",
    "y_test = data_test_raw.targets\n",
    "\n",
    "#Il est toujours mieux de normaliser les données (et que par rapport au train !!)\n",
    "meanData,stdData = data_train.mean(),data_train.std()\n",
    "data_train = (data_train-meanData)/stdData\n",
    "data_test = (data_test-meanData)/stdData"
   ]
  },
  {
   "cell_type": "code",
   "execution_count": 67,
   "id": "382fe5c3-a65a-4864-8136-a374e329452b",
   "metadata": {},
   "outputs": [
    {
     "name": "stdout",
     "output_type": "stream",
     "text": [
      "tensor([5, 0, 4, 1, 9, 2, 1, 3, 1, 4])\n"
     ]
    }
   ],
   "source": [
    "#On utilise un DataLoader pour faciliter les manipulations, on fixe arbitrairement la taille du mini batch à 32\n",
    "train_loader = DataLoader(TensorDataset(data_train,y_train),batch_size=32,shuffle=True)\n",
    "test_loader = DataLoader(TensorDataset(data_test,y_test),batch_size=32,shuffle=False)"
   ]
  },
  {
   "cell_type": "code",
   "execution_count": 32,
   "id": "58d4af69-2942-4491-bca8-fa05d840b863",
   "metadata": {},
   "outputs": [
    {
     "data": {
      "application/vnd.jupyter.widget-view+json": {
       "model_id": "b2a2c39891364bd381d63cee67d38706",
       "version_major": 2,
       "version_minor": 0
      },
      "image/png": "[encoded data removed]",
      "text/html": [
       "\n",
       "            <div style=\"display: inline-block;\">\n",
       "                <div class=\"jupyter-widgets widget-label\" style=\"text-align: center;\">\n",
       "                    Figure\n",
       "                </div>\n",
       "                <img src='data:image/png;base64,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' width=640.0/>\n",
       "            </div>\n",
       "        "
      ],
      "text/plain": [
       "Canvas(toolbar=Toolbar(toolitems=[('Home', 'Reset original view', 'home', 'home'), ('Back', 'Back to previous …"
      ]
     },
     "metadata": {},
     "output_type": "display_data"
    }
   ],
   "source": [
    "## Affichage de quelques chiffres\n",
    "ex,lab = next(iter(test_loader))\n",
    "fig = plt.figure()\n",
    "for i in range(6):\n",
    "  plt.subplot(2,3,i+1)\n",
    "  plt.tight_layout()\n",
    "  plt.imshow(ex[i].view(width,height), cmap='gray', interpolation='none')\n",
    "  plt.title(\"Label : {}\".format(lab[i]))\n",
    "  plt.xticks([])\n",
    "  plt.yticks([])"
   ]
  },
  {
   "cell_type": "markdown",
   "id": "969acb4a-c876-4f46-8676-c5c6bded690a",
   "metadata": {},
   "source": [
    "##  <font color=\"green\"> Premier réseau </font>\n",
    "\n",
    "Construire un réseau à deux couches avec par exemple 100 neurones dans la couche cachée et une activation tanh. Entraînez le sur une cinquantaine d'époques et visualisez les courbes de coût et de précision. Pour cela, utilisez dans un premier temps une <a href=\"https://pytorch.org/docs/stable/generated/torch.nn.CrossEntropyLoss.html\">**CrossEntropyLoss**</a>.  Lisez bien la documentation : ce coût prend en entrée les prédictions pour chaque classe pour chaque exemple et un vecteur d'entier indiquant les indexes des labels des classes."
   ]
  },
  {
   "cell_type": "code",
   "execution_count": 65,
   "id": "c5a6f99c-a9e1-4b44-b555-ce6c516df91b",
   "metadata": {},
   "outputs": [],
   "source": [
    "res=torch.nn.Sequential(torch.nn.Linear(data_train[0].shape[0],100),torch.nn.Tanh(),torch.nn.Linear(100,1))\n",
    "res.name=\"mon réseau\""
   ]
  },
  {
   "cell_type": "code",
   "execution_count": 66,
   "id": "a81aec88-9933-4a4d-82d1-6eefa8e86c2a",
   "metadata": {},
   "outputs": [],
   "source": [
    "from torch.utils.tensorboard import SummaryWriter\n",
    "\n",
    "train(res,{train_loader:'train',test_loader:'test'},torch.nn.CrossEntropyLoss(),1e-3,100)"
   ]
  },
  {
   "cell_type": "markdown",
   "id": "ce52f9e9-0e16-4cd9-94ee-ec6a7f220107",
   "metadata": {},
   "source": [
    "Utilisez cette fois une <a href=\"https://pytorch.org/docs/stable/generated/torch.nn.MSELoss.html#torch.nn.MSELoss\"> **MSELoss**</a>. Attention, ce coût prend en entrée la prédiction pour chaque clase pour chaque exemple et une cible de même taille ! Vous aurez donc besoin de définir un coût auxiliaire qui prend les mêmes paramètres  que la **CrossEntropyLoss**, qui transforme chaque indexe en vecteur *one hot* et qui applique dessus le coût MSE afin de garder la même boucle d'apprentissage (regardez pour cela <a href=\"https://pytorch.org/docs/stable/generated/torch.nn.functional.one_hot.html\">https://pytorch.org/docs/stable/generated/torch.nn.functional.one_hot.html</a>)."
   ]
  },
  {
   "cell_type": "code",
   "execution_count": null,
   "id": "d3deb1c4-97dd-469d-a405-4df865bd1fb3",
   "metadata": {},
   "outputs": [],
   "source": [
    "train(res,{train_loader:'train',test_loader:'test'},torch.nn.MSELoss(),1e-3,100)"
   ]
  },
  {
   "cell_type": "code",
   "execution_count": null,
   "id": "7055d791-b96a-4b9d-890d-b268d31337fc",
   "metadata": {},
   "outputs": [],
   "source": []
  },
  {
   "cell_type": "markdown",
   "id": "46f88e1d-b096-4f38-a788-e80b05879604",
   "metadata": {},
   "source": [
    "## Auto-encoder naïf\n",
    "\n",
    "Faîtes une classe **AutoEncoder** qui implémente un auto-encodeur : \n",
    "* un sous-module **encoder** qui applique une successsion de linéaires et de fonction d'activation, de dimension de plus en plus petite (exemple : DIM_Inx500, 500x100, 100x10)\n",
    "* un sous-module **decoder** qui applique une succession inverse de linéaires (exemple : 10x100, 100x500, 500xDIM_IN)\n",
    "* une méthode **forward** qui enchaîne une passe d'encodeur et une passe de décodeur.\n",
    "\n",
    "Cette classe permet d'*autoencoder* des exemples, c'est-à-dire trouver une représentation plus compacte et sémantiquement informative des exemples. Le réseau est appris sur un coût mesurant la différence entre la sortie du réseau et l'entrée d'origine.\n",
    "\n",
    "Proposez un dataloader pour apprendre un auto-encodeur. Scalez les sorties entre 0 et 1. Comparez les résultats sur MNIST en étudiant la *Tanh* et la *ReLU*, ainsi qu'un *BCELoss* comparé à un *MSELoss*. Tracez les images décodés durant l'apprentissage (avec **add_images** par exemple de *tensorboard*. \n",
    "\n",
    "Vous pouvez également comparer les *embeddings* appris (la couche de sortie de l'encodeur) avec **add_embeddings** de *tensorboard*)."
   ]
  },
  {
   "cell_type": "code",
   "execution_count": null,
   "id": "6d625f19-a3a7-483b-a425-efa05d58a6a6",
   "metadata": {},
   "outputs": [],
   "source": []
  }
 ],
 "metadata": {
  "kernelspec": {
   "display_name": "Python 3 (ipykernel)",
   "language": "python",
   "name": "python3"
  },
  "language_info": {
   "codemirror_mode": {
    "name": "ipython",
    "version": 3
   },
   "file_extension": ".py",
   "mimetype": "text/x-python",
   "name": "python",
   "nbconvert_exporter": "python",
   "pygments_lexer": "ipython3",
   "version": "3.11.8"
  }
 },
 "nbformat": 4,
 "nbformat_minor": 5
}
