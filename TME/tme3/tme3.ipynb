{
 "cells": [
  {
   "cell_type": "markdown",
   "metadata": {
    "id": "_TE2ItlsI956"
   },
   "source": [
    "# ML - TME 3 : Introduction à Pytorch\n",
    "\n",
    "\n",
    "Nicolas Baskiotis (nicolas.baskiotis@sorbonne-universite.fr)  -- MLIA/ISIR, Sorbonne Université\n"
   ]
  },
  {
   "cell_type": "markdown",
   "metadata": {
    "id": "TAER7frwJu9L"
   },
   "source": [
    "# Préambule\n",
    "\n",
    "Dans ce TME, vous allez principalement refaire ce que vous avez fait en TME2 mais sous PyTorch, et en remplaçant au fur et à mesure les blocs programmés à la main par les possibilités de PyTorch.\n",
    "\n",
    "Les lignes suivantes permettent d'importer pytorch et vérifier qu'un GPU est disponible."
   ]
  },
  {
   "cell_type": "code",
   "execution_count": null,
   "metadata": {
    "colab": {
     "base_uri": "https://localhost:8080/"
    },
    "executionInfo": {
     "elapsed": 512,
     "status": "ok",
     "timestamp": 1700496819634,
     "user": {
      "displayName": "Lau re",
      "userId": "03302099944040145915"
     },
     "user_tz": -60
    },
    "id": "3Y9YOOHHhJKY",
    "outputId": "e7a2d50b-e003-4b81-ba6a-cddab0bfbc3e"
   },
   "outputs": [],
   "source": [
    "import torch\n",
    "print(\"La version de torch est : \",torch.__version__)\n",
    "print(\"Le calcul GPU est disponible ? \", torch.cuda.is_available())\n",
    "\n",
    "import numpy as np\n",
    "import sklearn\n",
    "import matplotlib.pyplot as plt"
   ]
  },
  {
   "cell_type": "markdown",
   "metadata": {
    "id": "3WA5ZFwjkWKS"
   },
   "source": [
    "# Prise en main de Pytorch\n",
    "\n",
    "Cette partie est un tutoriel pour la prise en main de pytorch. N'hesitez pas à explorer et expérimenter les notions présentées."
   ]
  },
  {
   "cell_type": "markdown",
   "metadata": {
    "id": "u2LqFo3wzwYP"
   },
   "source": [
    "## Syntaxe\n",
    "\n",
    "Le principal objet manipulé sous Pytorch est **torch.Tensor** qui correspond à un tenseur mathématique (généralisation de la notion de matrice en $n$-dimensions), très proche dans l'utilisation de **numpy.array**.   Cet objet est optimisé pour les calculs sur GPU ce qui implique quelques contraintes plus importantes que sous **numpy**. En particulier :\n",
    "* le type du tenseur manipulé est très important et les conversions ne sont pas automatique (**FloatTensor** de type **torch.float**, **DoubleTensor** de type **torch.double**,  **ByteTensor** de type **torch.byte**, **IntTensor** de type **torch.int**, **LongTensor** de type **torch.long**). Pour un tenseur **t** La conversion se fait très simplement en utilisant les fonctions : **t.double()**, **t.float()**, **t.long()** ...\n",
    "* la plupart des opérations ont une version *inplace*, c'est-à-dire qui modifie le tenseur plutôt que de renvoyer un nouveau tenseur; elles sont suffixées par **_** (**add_** par exemple).\n",
    "\n",
    "N'hésitez pas à vous référez à la [documentation officielle](https://pytorch.org/docs/stable/tensors.html) pour la liste exhaustive des opérations.\n"
   ]
  },
  {
   "cell_type": "markdown",
   "metadata": {},
   "source": [
    "Les lignes suivantes ont pour objectif à vous faire prendre en main les tenseurs. Completez afin d'effectuer les opérations demandées."
   ]
  },
  {
   "cell_type": "code",
   "execution_count": null,
   "metadata": {
    "cellView": "code",
    "colab": {
     "base_uri": "https://localhost:8080/"
    },
    "executionInfo": {
     "elapsed": 8,
     "status": "ok",
     "timestamp": 1700496820051,
     "user": {
      "displayName": "Lau re",
      "userId": "03302099944040145915"
     },
     "user_tz": -60
    },
    "id": "VZxNfy1b1u43",
    "outputId": "e1cc6a39-4820-4353-f596-1fbe813ee239"
   },
   "outputs": [],
   "source": [
    "# Création de tenseurs et caractéristiques\n",
    "liste_1, liste_2 = [1.,2.,3.], [2.,3.,4.]\n",
    "## Créez un tenseur à partir des listes liste_1 et liste_2\n",
    "\n",
    "## Créez un tenseur  tenseur rempli de 1 de taille 2x3x4\n",
    "\n",
    "##  Créez tenseur de zéros de taille 2x3 de type float\n",
    "\n",
    "## Créez un tenseur de zéros de taille 2x3 puis remplissez le d'entiers aléatoires entre 10 et 15 (inplace)\n",
    "\n",
    "##  Créez un tenseur a de taille 2x3 aléatoire suivant une loi normale, et un tenseur b de taille 3x4,\n",
    "#et un vecteur c de taille 3\n",
    "\n",
    "##  Concatenez les deux tenseurs a de façons à former un  tenseur de taille 6x2\n",
    "\n",
    "##  Affichez le nombre de lignes, de colonnes  de b\n",
    "\n",
    "## Convertissez a en tenseur d'entiers\n",
    "\n",
    "# Opérations élémentaires sur les tenseurs\n",
    "##Faites le produit scalaire de c par c\n",
    "\n",
    "## Faites le produit matriciel de a par b\n",
    "\n",
    "## Calculez le produit matriciel de la transposé de a par a\n",
    "\n",
    "## Trouvez l'index des maximums des colonnes de a\n",
    "\n",
    "## Faites la somme par colonne de b, la somme totale de b\n",
    "\n",
    "## Calculez la moyenne selon les colonnes de b, puis la moyenne de tous les éléments\n",
    "\n",
    "## Changez la taille de b en 2x6\n",
    "\n"
   ]
  },
  {
   "cell_type": "markdown",
   "metadata": {},
   "source": [
    "Attention ! comme sous numpy, il peut y avoir des pièges !\n",
    "Vérifier toujours les dimensions !!"
   ]
  },
  {
   "cell_type": "code",
   "execution_count": null,
   "metadata": {},
   "outputs": [],
   "source": [
    "\n",
    "a=torch.zeros(5,1)\n",
    "b=torch.zeros(5)\n",
    "## la première opération fait un broadcast et le résultat est tenseur à 2 dimensiosn,\n",
    "## le résultat de la deuxième opération est bien un vecteur\n",
    "print(a-b,a.t()-b)"
   ]
  },
  {
   "cell_type": "markdown",
   "metadata": {
    "id": "YzhX7D8KKIvt"
   },
   "source": [
    "## Autograd et graphe de calcul\n",
    "Un élément central de pytorch est le graphe de calcul : lors du calcul d'une variable, l'ensemble des opérations qui ont servies au calcul sont stockées sous la forme d'un graphe acyclique, dit de *calcul*. Les noeuds internes du graphe représentent les opérations, le noeud terminal le résultat et les racines les variables d'entrées. Ce graphe sert en particulier à calculer les dérivées partielles de la sortie par rapport aux variables d'entrées - en utilisant les règles de dérivations chainées des fonctions composées.\n",
    "Pour cela, toutes les fonctions disponibles dans pytorch comportent un mécanisme, appelé *autograd* (automatique differentiation), qui permet de calculer les dérivées partielles des opérations.\n",
    "\n",
    "### Différenciation automatique\n",
    "(De manière simplifiée, pour les détails cf [la documentation](https://pytorch.org/docs/stable/notes/extending.html))\n",
    "\n",
    "Toute opération sous pytorch hérite de la classe **Function** et doit définir :\n",
    "* une méthode **forward(\\*args)** : passe avant, calcule le résultat de la fonction appliquée aux arguments\n",
    "* une méthode **backward(\\*args)** : passe arrière, calcule les dérivées partielles par rapport aux entrées. Les arguments de  cette méthode correspondent aux valeurs des dérivées suivantes dans le graphe de calcul. En particulier, il y a autant d'arguments à **backward**  que de sorties pour la méthode **forward** (rétro-propagation : on doit connaître les dérivés qui viennent  en aval du calcul) et autant de sorties que d'arguments dans la méthode **forward** (chaque sortie correspond à  une dérivée partielle par rapport à chaque entrée du module). Le calcul se fait sur les valeurs du dernier appel de **forward**.\n",
    "\n",
    "Par exemple, pour la fonction d'addition  **add(x,y)**, **add.forward(x,y)** renverra **x+y** (l'appel de la fonction est équivalent à l'appel de **forward**) et **add.backward(1)** renverra le couple **(1,1)** (la dérivée par rapport à x, et celle par rapport à y) .\n",
    "\n",
    "\n",
    "\n",
    "En pratique, ce ne sont pas les méthodes de ces fonctions qui sont utilisées, mais des méthodes équivalentes sur les tenseurs. La méthode **backward** d'un tenseur permet de rétro-propager le calcul du gradient sur toutes les variables qui ont servies à son calcul.\n",
    "\n",
    "La valeur du gradient pour chaque dérivée partielle se trouve dans l'attribut **grad** de la variable concernée.\n",
    "\n",
    "Comme c'est un mécanisme lourd, l'autograd n'est pas activé par défaut pour une variable. Afin de l'activer, il faut mettre le flag **requires_grad** de cette variable à vrai. Dès lors, tout calcul qui utilise cette variable sera enregistré dans le graphe de calcul et le gradient sera disponible.\n",
    "\n",
    "\n",
    "Exemple :"
   ]
  },
  {
   "cell_type": "code",
   "execution_count": null,
   "metadata": {
    "colab": {
     "base_uri": "https://localhost:8080/"
    },
    "executionInfo": {
     "elapsed": 7,
     "status": "ok",
     "timestamp": 1700496820051,
     "user": {
      "displayName": "Lau re",
      "userId": "03302099944040145915"
     },
     "user_tz": -60
    },
    "id": "J_mYVeXMfsTV",
    "outputId": "2e6001f5-b1ed-4d8d-ba8b-e6fec033aa84"
   },
   "outputs": [],
   "source": [
    "a = torch.tensor(1.)\n",
    "# Par défaut, requires_grad est à False\n",
    "print(\"Graphe de calcul ? \",a.requires_grad)\n",
    "# On peut demander à ce que le graphe de calcul soit retenu\n",
    "a.requires_grad = True\n",
    "# Ou lors de la création du tenseur directement\n",
    "b = torch.tensor(2.,requires_grad=True)\n",
    "z = 2*a + b\n",
    "# Calcul des dérivées partielles par rapport à z\n",
    "z.backward()\n",
    "print(\"Dérivée de z/a : \", a.grad.item(),\" z/b :\", b.grad.item())\n",
    "\n",
    "# Si on a oublié de demander le graphe de calcul :\n",
    "a, b = torch.tensor(1.),torch.tensor(2.)\n",
    "z = 2*a+b\n",
    "try:\n",
    "  z.backward()\n",
    "except Exception as e:\n",
    "  print(\"Erreur : \", e)"
   ]
  },
  {
   "cell_type": "markdown",
   "metadata": {
    "id": "eApYmHIZa917"
   },
   "source": [
    "### <span class=\"alert-success\">     Exercice :  Utilisation de backward     </div>\n",
    "* Implémentez (en une ligne) la fonction de coût aux moindres carrés $MSE(\\hat{y},y)=\\frac{1}{2N} \\sum_{i=1}^N\\|\\hat{y_i}-y_i\\|^2$ où $\\hat{y},y$ sont deux matrices de taille $N\\times d$, et $y_i,\\hat{y_i}$ les $i$-èmes vecteurs lignes des matrices.\n",
    "\n",
    "Vérifiez bien en début de code que $\\hat{y}$ et $y$ sont des matrices et non pas des vecteurs, pour ne pas avoir d'erreur lors du broadcasting.\n",
    "\n",
    "* Engendrez **y,yhat** deux matrices aléatoires de taille $(1,5)$.\n",
    "* Calculez **MSE(y,yhat)** et l'afficher\n",
    "* Calculez à la main le gradient de **MSE** par rapport à **y**, **yhat**\n",
    "* Calculez grâce à pytorch le gradient de **MSE** par rapport à **y** et **yhat** et vérifier le résultat. Observez la dimension de sortie, est-elle bien compatible avec la taille de **y** et **yhat** ?\n",
    "* Appelez une deuxième fois **MSE** sur les mêmes vecteurs et la méthode **backward**. Qu'observez vous pour le gradient ? Comment l'expliquez vous ?"
   ]
  },
  {
   "cell_type": "code",
   "execution_count": null,
   "metadata": {
    "id": "4Rd37M_3gkqu"
   },
   "outputs": [],
   "source": []
  },
  {
   "cell_type": "markdown",
   "metadata": {
    "id": "JxgCbApIgU5X"
   },
   "source": [
    "\n",
    "### <span class=\"alert-success\"> Exercice :   Régression linéaire en pytorch </span>\n",
    "\n",
    "* Définissez la fonction **flineaire(x,w,b)** fonction linéaire qui calcule $f(x,w,b)=x.w^t+b$  avec $x\\in \\mathbb{R}^{{n\\times d}},~w\\in\\mathbb{R}^{1,d}, b\\in \\mathbb{R}$\n",
    "* Ecrivez le code de **descente_gradient(datax,datay,loss, eps, epochs)** pour réaliser une descente de gradient sur les données **datax, datay** avec le coût **loss**, un pas de gradient **eps** et un nombre d'itérations **epochs**. Elle doit renvoyer les paramètre **w** et **b** optimaux : $$w^∗,b^∗=argmin_{w,b}\\frac{1}{N} \\sum_{i=1}^N loss(f(x^i,w,b),y^i)$$\n",
    "\n",
    "Pour tester votre code, utilisez soit les données simulées du TME2, soit le jeu de données très classique *Boston*, le prix des loyers à Boston en fonction de caractéristiques socio-économiques des quartiers. Le code ci-dessous permet de les charger.\n",
    "\n",
    "* Visualisez la courbe d'erreur en fonction du nombre d'itérations."
   ]
  },
  {
   "cell_type": "code",
   "execution_count": null,
   "metadata": {},
   "outputs": [],
   "source": [
    "\n",
    "## Chargement des données Boston et transformation en tensor.\n",
    "from sklearn.datasets import fetch_california_housing\n",
    "housing = fetch_california_housing(data_home=\"./data/\") ## chargement des données\n",
    "housing_x = torch.tensor(housing['data'],dtype=torch.float) # penser à typer les données pour éliminer les incertitudes\n",
    "housing_y = torch.tensor(housing['target'],dtype=torch.float)\n",
    "print(\"Nombre d'exemples : \",housing_x.size(0), \"Dimension : \",housing_x.size(1))\n",
    "print(\"Nom des attributs : \", \", \".join(housing['feature_names']))\n",
    "\n",
    "print(housing_x[:5])\n",
    "\n",
    "print(\"Nombre d'exemples : \",housing_x.size(0), \"Dimension : \",housing_x.size(1))\n",
    "print(\"Nom des attributs : \", \", \".join(housing['feature_names']))\n",
    "\n",
    "# On centre norme les données, sinon... Testez pour voir !\n",
    "housing_x = 2*(housing_x-housing_x.min(0)[0])/(housing_x.max(0)[0]-housing_x.min(0)[0])-1\n",
    "housing_y = 2*(housing_y-housing_y.min(0)[0])/(housing_y.max(0)[0]-housing_y.min(0)[0])-1\n",
    "print(housing_x.max(),housing_x.min(),housing_y.max(),housing_y.min())"
   ]
  },
  {
   "cell_type": "code",
   "execution_count": null,
   "metadata": {
    "colab": {
     "base_uri": "https://localhost:8080/"
    },
    "executionInfo": {
     "elapsed": 2149,
     "status": "ok",
     "timestamp": 1700496822197,
     "user": {
      "displayName": "Lau re",
      "userId": "03302099944040145915"
     },
     "user_tz": -60
    },
    "id": "dArOgSWNTVvb",
    "outputId": "3c737f4c-2336-4f58-ab16-31c6b8e53f35"
   },
   "outputs": [],
   "source": []
  },
  {
   "cell_type": "code",
   "execution_count": null,
   "metadata": {},
   "outputs": [],
   "source": []
  },
  {
   "cell_type": "code",
   "execution_count": null,
   "metadata": {},
   "outputs": [],
   "source": []
  },
  {
   "cell_type": "code",
   "execution_count": null,
   "metadata": {
    "colab": {
     "base_uri": "https://localhost:8080/",
     "height": 483
    },
    "executionInfo": {
     "elapsed": 403,
     "status": "ok",
     "timestamp": 1700496822595,
     "user": {
      "displayName": "Lau re",
      "userId": "03302099944040145915"
     },
     "user_tz": -60
    },
    "id": "sLKQ7Z1dECls",
    "outputId": "4f7b28b6-721c-42af-e8af-ea823a9c073c"
   },
   "outputs": [],
   "source": []
  },
  {
   "cell_type": "markdown",
   "metadata": {
    "id": "WRwqLJPRIpXu"
   },
   "source": [
    "\n",
    "## Optimiseur\n",
    "Pytorch inclut une classe très utile pour la descente de gradient, [torch.optim](https://pytorch.org/docs/stable/optim.html), qui permet :\n",
    "* d'économiser quelques lignes de codes\n",
    "* d'automatiser la mise-à-jour des paramètres\n",
    "* d'abstraire le type de descente de gradient utilisé (sgd,adam, rmsprop, ...)\n",
    "\n",
    "Une liste de paramètres à optimiser est passée à l'optimiseur lors de l'initialisation. La méthode **zero_grad()** permet de remettre le gradient à zéro et la méthode **step()** permet de faire une mise-à-jour des paramètres.\n",
    "\n",
    "Un exemple de code  utilisant l'optimiseur est donné ci-dessous. \n",
    "\n",
    "Ré-implémentez la descente de gradient en utilisant un optimiseur. \n",
    "\n",
    "L'optimiseur le plus utilisé  est **Adam** qui permet une pas adaptatif en fonction de l'historique. Sur ce problème simple vous ne verrez pas de différence, vous pourrez comparer par la suite **SGD** et **Adam**.\n"
   ]
  },
  {
   "cell_type": "code",
   "execution_count": null,
   "metadata": {},
   "outputs": [],
   "source": [
    "w = torch.randn(100,dtype=torch.float,requires_grad=True)\n",
    "b = torch.randn(1,dtype=torch.float,requires_grad=True)\n",
    "print(\"W init : \",w)\n",
    "## on optimise selon w et b.  lr est le pas du gradient\n",
    "optim = torch.optim.Adam(params=[w,b],lr=1e-3)\n",
    "auhasard = (w.dot(w)+b)\n",
    "#Mise à zéro du gradient\n",
    "optim.zero_grad()\n",
    "# Calcul du gradient\n",
    "auhasard.backward()\n",
    "print(\"gradient : \",w.grad)\n",
    "#Mise à jour des paramètres\n",
    "optim.step()\n",
    "print(\"w corrigé : \",w)\n",
    "#Mise à zéro du gradient\n",
    "optim.zero_grad()\n",
    "print(w.grad)"
   ]
  },
  {
   "cell_type": "markdown",
   "metadata": {},
   "source": [
    "\n",
    "Ré-implémentez la fonction de descente de gradient en utilisant un optimiseur.\n",
    "\n",
    "L'optimiseur le plus utilisé  est **Adam** qui permet une pas adaptatif en fonction de l'historique. Sur ce problème simple vous ne verrez pas de différence, vous pourrez comparer par la suite **SGD** et **Adam**.\n"
   ]
  },
  {
   "cell_type": "code",
   "execution_count": null,
   "metadata": {
    "colab": {
     "base_uri": "https://localhost:8080/"
    },
    "executionInfo": {
     "elapsed": 6645,
     "status": "ok",
     "timestamp": 1700496829225,
     "user": {
      "displayName": "Lau re",
      "userId": "03302099944040145915"
     },
     "user_tz": -60
    },
    "id": "dftaEnaoIupc",
    "outputId": "5521979c-f770-4e67-e985-83ab12147322"
   },
   "outputs": [],
   "source": []
  },
  {
   "cell_type": "markdown",
   "metadata": {
    "id": "MHY1ffLNJxsb"
   },
   "source": [
    "\n",
    "## DataLoader\n",
    "Le <a href=https://pytorch.org/docs/stable/data.html>**DataLoader**</a> et la classe associée <a href=https://pytorch.org/docs/stable/data.html#torch.utils.data.Dataset> **Dataset**</a>  permettent en particulier de :\n",
    "* charger des données\n",
    "* pré-processer les données\n",
    "* de gérer les mini-batchs (sous-ensembles sur lequel on effectue une descente de gradient).\n",
    "\n",
    "La classe **Dataset** est une classe abstraite qui nécessite l'implémentation que d'une seule méthode, ```__getitem__(self,index)``` : elle renvoie le i-ème objet du jeu de données (généralement un couple *(exemple,label)*.\n",
    "\n",
    "La classe **TensorDataset** est l'instanciation la plus courante d'un **Dataset**, elle permet de créer un objet **Dataset** à partir d'une liste de tenseurs qui renvoie pour un index $i$ donné le tuple contenant les $i$-èmes ligne de chaque tenseur.\n",
    "\n",
    "La classe **DataLoader** permet essentiellement de randomiser et de constituer des mini-batchs de façon simple à partir d'une instance de **Dataset**. Chaque mini-batch est constitué d'exemples tirés aléatoirement dans le **Dataset** passé en paramètre et mis bout à bout dans des tenseurs. La méthode ```collate_fn(*args)``` est utilisée pour cela (nous ne l'utiliserons pas pour l'instant). C'est ce générateur qui est généralement parcouru lors de l'apprentissage à chaque itération d'optimisation.\n",
    "\n",
    "Voici un exemple de code pour utiliser le DataLoader :\n"
   ]
  },
  {
   "cell_type": "code",
   "execution_count": null,
   "metadata": {
    "id": "Hg-ziayDJsbS"
   },
   "outputs": [],
   "source": [
    "from torch.utils.data import DataLoader,TensorDataset, Dataset\n",
    "\n",
    "## Création d'un dataset à partir des deux tenseurs d'exemples et de labels\n",
    "train_data = TensorDataset(housing_x,housing_y)\n",
    "\n",
    "## On peut indexer et connaitre la longueur d'un dataset\n",
    "print(len(train_data),train_data[5])\n",
    "\n",
    "## Création d'un DataLoader\n",
    "## tailles de mini-batch de 16, shuffle=True permet de mélanger les exemples\n",
    "# loader est un itérateur sur les mini-batchs des données\n",
    "loader = DataLoader(train_data, batch_size=16,shuffle=True )\n",
    "\n",
    "#Premier batch (aléatoire) du dataloader :\n",
    "print(len(iter(loader)),next(iter(loader)))\n",
    "for x,y in loader:\n",
    "    print(x,y)\n",
    "    break\n"
   ]
  },
  {
   "cell_type": "markdown",
   "metadata": {},
   "source": [
    "Modifiez votre code pour utiliser un Dataloader : **descente_gradient(loader, loss, eps, epochs) **.\n",
    "\n",
    "Oubliez pas qu'une époque correspond à la prise en compte de tous les exemples une fois. Le coût n'est généralement enregistré qu'à la fin d'une époque, cumulé sur tous les batchs. Vous pouvez utiliser la fonction **item()** d'un tenseur pour avoir accès au scalaire sans garder de trace du graphe de calcul.\n",
    "\n",
    "Testez et observez les différences en fonction de la taille des mini-batchs. Est-ce plus rapide ou plus lent que la version batch ? pourquoi ?"
   ]
  },
  {
   "cell_type": "code",
   "execution_count": null,
   "metadata": {},
   "outputs": [],
   "source": []
  },
  {
   "cell_type": "markdown",
   "metadata": {
    "id": "KKs1Q5pPKf-2"
   },
   "source": [
    "\n",
    "## TensorBoard\n",
    "\n",
    "Durant l'apprentissage de vos modèles, il est agréable de visualiser de quelle manière évolue le coût, la précision sur l'ensemble de validation ainsi que d'autres éléments. TensorFlow dispose d'un outil très apprécié, le TensorBoard, qui permet de gérer très facilement de tels affichages. On retrouve tensorboard dans **Pytorch** dans ```torch.utils.ensorboard``` qui permet de faire le pont de pytorch vers cet outil.\n",
    "\n",
    "Le principe est le suivant :\n",
    "* tensorboard fait tourner en fait un serveur web local qui va lire les fichiers de log dans un répertoire local. L'affichage se fait dans votre navigateur à partir d'un lien fourni lors du lancement de tensorboard.\n",
    "* Les éléments que vous souhaitez visualiser (scalaire, graphes, distributions, histogrammes) sont écrits dans le fichier de log à partir d'un objet **SummaryWriter** .\n",
    "* la méthode ```add_scalar(tag, valeur, global_step)``` permet de logger une valeur à un step donné, ```add_scalar(tag, tag_scalar_dic, global_step)``` un ensemble de valeurs par l'intermédiaire du dictionnaire ```tag_scalar_dic``` (un regroupement des scalaires est fait en fonction du tag passé, chaque sous-tag séparé par un **/**).\n",
    "\n",
    "Il existe d'autres méthodes ```add_XXX``` pour visualiser par exemple des images, des histogrammes (cf <a href=https://pytorch.org/docs/stable/tensorboard.html>la doc </a>).\n",
    "\n",
    "Le code suivant illustre une manière de l'utiliser.\n",
    "Pour information, il est bien plus agréable de l'utiliser en dehors d'un notebook que à l'intérieur. "
   ]
  },
  {
   "cell_type": "code",
   "execution_count": null,
   "metadata": {
    "id": "ZG9P8sKPKdcq"
   },
   "outputs": [],
   "source": [
    "#Spécial notebook, les commandes suivantes permettent de lancer tensorboard\n",
    "# En dehors du notebook, il faut le lancer à la main dans le shell :\n",
    "# tensorboard --logdir logs\n",
    "TB_PATH = \"/tmp/logs/module1\"\n",
    "import os\n",
    "os.makedirs(TB_PATH,exist_ok=True)\n",
    "%load_ext tensorboard\n",
    "%tensorboard --logdir {TB_PATH}\n",
    "from torch.utils.tensorboard import SummaryWriter\n",
    "\n",
    "# Spécial notebook : pour avoir les courbes qui s'affichent dans le notebook,\n",
    "# sinon aller à l'adresse web local indiquée lors du lancement de tensorboard\n",
    "from tensorboard import notebook\n",
    "notebook.display()\n",
    "# Où seront stockés les logs.\n",
    "summary = SummaryWriter(f\"{TB_PATH}/test\")\n",
    "\n",
    "mseloss = torch.nn.MSELoss()\n",
    "for e in range(1000):\n",
    "    summary.add_scalar(\"loss/train\",torch.randn(1,1).item(),e)\n",
    "    summary.add_scalar(\"loss/test\",torch.randn(1,1).item(),e)\n",
    "  "
   ]
  },
  {
   "cell_type": "markdown",
   "metadata": {},
   "source": [
    "Intégrez Tensorboard à votre code et testez le."
   ]
  },
  {
   "cell_type": "code",
   "execution_count": null,
   "metadata": {},
   "outputs": [],
   "source": []
  }
 ],
 "metadata": {
  "accelerator": "GPU",
  "colab": {
   "provenance": []
  },
  "kernelspec": {
   "display_name": "Python 3 (ipykernel)",
   "language": "python",
   "name": "python3"
  },
  "language_info": {
   "codemirror_mode": {
    "name": "ipython",
    "version": 3
   },
   "file_extension": ".py",
   "mimetype": "text/x-python",
   "name": "python",
   "nbconvert_exporter": "python",
   "pygments_lexer": "ipython3",
   "version": "3.10.12"
  }
 },
 "nbformat": 4,
 "nbformat_minor": 4
}
