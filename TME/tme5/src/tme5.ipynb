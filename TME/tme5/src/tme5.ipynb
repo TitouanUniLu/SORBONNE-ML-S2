{
 "cells": [
  {
   "cell_type": "code",
   "execution_count": 19,
   "metadata": {},
   "outputs": [],
   "source": [
    "import numpy as np\n",
    "import matplotlib.pyplot as plt\n",
    "from matplotlib import cm\n",
    "from mltools import plot_data, plot_frontiere, make_grid, gen_arti\n",
    "\n",
    "def perceptron_loss(w,x,y):\n",
    "    return np.maximum(0,-y*x@w)\n",
    "\n",
    "\n",
    "def perceptron_grad(w, x, y):\n",
    "    grad=-y*x\n",
    "    loss=perceptron_loss(w,x,y)\n",
    "    cond=np.ravel(loss==0)\n",
    "    grad[cond]=0\n",
    "    grad=grad.mean(axis=0).reshape(-1,1)\n",
    "    return grad\n",
    "\n",
    "class Lineaire(object):\n",
    "    def __init__(self,loss=perceptron_loss,loss_g=perceptron_grad,max_iter=100,eps=0.01):\n",
    "        self.max_iter, self.eps = max_iter,eps\n",
    "        self.w = None\n",
    "        self.loss,self.loss_g = loss,loss_g\n",
    "        \n",
    "    def fit(self,datax,datay):\n",
    "        self.w=np.random.rand(datax.shape[1])\n",
    "        w_list=[self.w]\n",
    "        loss_values=[self.loss(self.w,datax,datay).sum()]\n",
    "        for i in range(self.max_iter):\n",
    "            self.w=self.w-self.eps*np.sum(self.loss_g(self.w,datax,datay),axis=0)\n",
    "            w_list.append(self.w),loss_values.append(self.loss(self.w,datax,datay).sum())\n",
    "        return w_list,loss_values\n",
    "\n",
    "    def predict(self,datax):\n",
    "        return np.sign(datax@self.w)\n",
    "\n",
    "    def score(self,datax,datay):\n",
    "        datay=np.where(datay==6,1,-1)[:,]\n",
    "        return np.mean(self.predict(datax)==datay)\n",
    "\n",
    "def load_usps(fn):\n",
    "    with open(fn,\"r\") as f:\n",
    "        f.readline()\n",
    "        data = [[float(x) for x in l.split()] for l in f if len(l.split())>2]\n",
    "    tmp=np.array(data)\n",
    "    return tmp[:,1:],tmp[:,0].astype(int)\n",
    "\n",
    "def get_usps(l,datax,datay):\n",
    "    if type(l)!=list:\n",
    "        resx = datax[datay==l,:]\n",
    "        resy = datay[datay==l]\n",
    "        return resx,resy\n",
    "    tmp =   list(zip(*[get_usps(i,datax,datay) for i in l]))\n",
    "    tmpx,tmpy = np.vstack(tmp[0]),np.hstack(tmp[1])\n",
    "    return tmpx,tmpy\n",
    "\n",
    "def show_usps(data):\n",
    "    plt.imshow(data.reshape((16,16)),interpolation=\"nearest\",cmap=\"gray\")\n",
    "\n",
    "\n",
    "\n",
    "if __name__ ==\"__main__\":\n",
    "    uspsdatatrain = \"C:/Users/hatem/OneDrive/Documents/Programmation/M1-S2/ML/TME/tme5/data/USPS_test.txt\"\n",
    "    uspsdatatest = \"C:/Users/hatem/OneDrive/Documents/Programmation/M1-S2/ML/TME/tme5/data/USPS_train.txt\"\n",
    "    alltrainx,alltrainy = load_usps(uspsdatatrain)\n",
    "    alltestx,alltesty = load_usps(uspsdatatest)\n",
    "    neg = 5\n",
    "    pos = 6\n",
    "    datax,datay = get_usps([neg,pos],alltrainx,alltrainy)\n",
    "    testx,testy = get_usps([neg,pos],alltestx,alltesty)\n",
    "datay=datay.reshape(-1,1)"
   ]
  },
  {
   "cell_type": "code",
   "execution_count": 20,
   "metadata": {},
   "outputs": [
    {
     "name": "stdout",
     "output_type": "stream",
     "text": [
      "0.5442622950819672\n"
     ]
    }
   ],
   "source": [
    "Mobutu=Lineaire()\n",
    "Mobutu.fit(datax,datay)\n",
    "acc=Mobutu.score(testx,testy)\n",
    "print(acc)\n"
   ]
  }
 ],
 "metadata": {
  "kernelspec": {
   "display_name": "Python 3",
   "language": "python",
   "name": "python3"
  },
  "language_info": {
   "codemirror_mode": {
    "name": "ipython",
    "version": 3
   },
   "file_extension": ".py",
   "mimetype": "text/x-python",
   "name": "python",
   "nbconvert_exporter": "python",
   "pygments_lexer": "ipython3",
   "version": "3.11.8"
  }
 },
 "nbformat": 4,
 "nbformat_minor": 2
}
